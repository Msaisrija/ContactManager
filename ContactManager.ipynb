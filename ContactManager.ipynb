{
 "cells": [
  {
   "cell_type": "code",
   "execution_count": null,
   "id": "9c2f5d4a-9da6-47d0-9ba7-49cc087ab141",
   "metadata": {},
   "outputs": [],
   "source": []
  },
  {
   "cell_type": "code",
   "execution_count": 3,
   "id": "7feae137-138e-4642-9c33-97f71f3af77f",
   "metadata": {},
   "outputs": [
    {
     "name": "stdout",
     "output_type": "stream",
     "text": [
      "1. Add Contact\n",
      "2. Display All Contacts\n",
      "3. Search Contact\n",
      "4. Update Contact\n",
      "5. Filter Contacts by Email Domain (e.g., Gmail)\n",
      "6. Exit\n"
     ]
    },
    {
     "name": "stdin",
     "output_type": "stream",
     "text": [
      "Enter your choice (1-6):  1\n",
      "Enter contact name:  saisrija\n",
      "Enter phone number:  8309953494\n",
      "Enter email address:  saisreejamugala@gmail.com\n"
     ]
    },
    {
     "name": "stdout",
     "output_type": "stream",
     "text": [
      "Contact 'saisrija' added successfully!\n",
      "\n",
      "1. Add Contact\n",
      "2. Display All Contacts\n",
      "3. Search Contact\n",
      "4. Update Contact\n",
      "5. Filter Contacts by Email Domain (e.g., Gmail)\n",
      "6. Exit\n"
     ]
    },
    {
     "name": "stdin",
     "output_type": "stream",
     "text": [
      "Enter your choice (1-6):  1\n",
      "Enter contact name:  john\n",
      "Enter phone number:  9052576945\n",
      "Enter email address:  john@gmail.com\n"
     ]
    },
    {
     "name": "stdout",
     "output_type": "stream",
     "text": [
      "Contact 'john' added successfully!\n",
      "\n",
      "1. Add Contact\n",
      "2. Display All Contacts\n",
      "3. Search Contact\n",
      "4. Update Contact\n",
      "5. Filter Contacts by Email Domain (e.g., Gmail)\n",
      "6. Exit\n"
     ]
    },
    {
     "name": "stdin",
     "output_type": "stream",
     "text": [
      "Enter your choice (1-6):  1\n",
      "Enter contact name:  david\n",
      "Enter phone number:  8897466945\n",
      "Enter email address:  david@voltus.in\n"
     ]
    },
    {
     "name": "stdout",
     "output_type": "stream",
     "text": [
      "Contact 'david' added successfully!\n",
      "\n",
      "1. Add Contact\n",
      "2. Display All Contacts\n",
      "3. Search Contact\n",
      "4. Update Contact\n",
      "5. Filter Contacts by Email Domain (e.g., Gmail)\n",
      "6. Exit\n"
     ]
    },
    {
     "name": "stdin",
     "output_type": "stream",
     "text": [
      "Enter your choice (1-6):  2\n"
     ]
    },
    {
     "name": "stdout",
     "output_type": "stream",
     "text": [
      "Name: saisrija, Phone: 8309953494, Email: saisreejamugala@gmail.com\n",
      "Name: john, Phone: 9052576945, Email: john@gmail.com\n",
      "Name: david, Phone: 8897466945, Email: david@voltus.in\n",
      "\n",
      "\n",
      "1. Add Contact\n",
      "2. Display All Contacts\n",
      "3. Search Contact\n",
      "4. Update Contact\n",
      "5. Filter Contacts by Email Domain (e.g., Gmail)\n",
      "6. Exit\n"
     ]
    },
    {
     "name": "stdin",
     "output_type": "stream",
     "text": [
      "Enter your choice (1-6):  3\n",
      "Enter the name of the contact to search:  saisrija\n"
     ]
    },
    {
     "name": "stdout",
     "output_type": "stream",
     "text": [
      "Contact found - Name: saisrija, Phone: 8309953494, Email: saisreejamugala@gmail.com\n",
      "\n",
      "1. Add Contact\n",
      "2. Display All Contacts\n",
      "3. Search Contact\n",
      "4. Update Contact\n",
      "5. Filter Contacts by Email Domain (e.g., Gmail)\n",
      "6. Exit\n"
     ]
    },
    {
     "name": "stdin",
     "output_type": "stream",
     "text": [
      "Enter your choice (1-6):  4\n",
      "Enter the name of the contact to update:  john\n"
     ]
    },
    {
     "name": "stdout",
     "output_type": "stream",
     "text": [
      "Current details - Phone: 9052576945, Email: john@gmail.com\n"
     ]
    },
    {
     "name": "stdin",
     "output_type": "stream",
     "text": [
      "Enter new phone number (leave blank to keep unchanged):  \n",
      "Enter new email address (leave blank to keep unchanged):  john123@gmail.com\n"
     ]
    },
    {
     "name": "stdout",
     "output_type": "stream",
     "text": [
      "Contact 'john' updated successfully!\n",
      "\n",
      "1. Add Contact\n",
      "2. Display All Contacts\n",
      "3. Search Contact\n",
      "4. Update Contact\n",
      "5. Filter Contacts by Email Domain (e.g., Gmail)\n",
      "6. Exit\n"
     ]
    },
    {
     "name": "stdin",
     "output_type": "stream",
     "text": [
      "Enter your choice (1-6):  5\n",
      "Enter email domain to filter (default is 'gmail.com'):  gmail.com\n"
     ]
    },
    {
     "name": "stdout",
     "output_type": "stream",
     "text": [
      "Contacts with email domain 'gmail.com':\n",
      "Name: saisrija, Phone: 8309953494, Email: saisreejamugala@gmail.com\n",
      "Name: john, Phone: 9052576945, Email: john123@gmail.com\n",
      "\n",
      "\n",
      "1. Add Contact\n",
      "2. Display All Contacts\n",
      "3. Search Contact\n",
      "4. Update Contact\n",
      "5. Filter Contacts by Email Domain (e.g., Gmail)\n",
      "6. Exit\n"
     ]
    },
    {
     "name": "stdin",
     "output_type": "stream",
     "text": [
      "Enter your choice (1-6):  6\n"
     ]
    },
    {
     "name": "stdout",
     "output_type": "stream",
     "text": [
      "Exiting Contact Manager. Goodbye!\n"
     ]
    }
   ],
   "source": [
    "#dictionary to store contacts\n",
    "contacts = {}\n",
    "\n",
    "def add_contact():\n",
    "    name = input(\"Enter contact name: \")\n",
    "    if name in contacts:\n",
    "        print(f\"Contact '{name}' already exists. Use update option to modify.\\n\")\n",
    "    else:\n",
    "        phone = input(\"Enter phone number: \")\n",
    "        email = input(\"Enter email address: \")\n",
    "\n",
    "        # Add new contact to the dictionary\n",
    "        contacts[name] = {'phone': phone, 'email': email}\n",
    "        print(f\"Contact '{name}' added successfully!\\n\")\n",
    "\n",
    "def display_contacts():\n",
    "   \n",
    "    for name, details in contacts.items():\n",
    "        print(f\"Name: {name}, Phone: {details['phone']}, Email: {details['email']}\")\n",
    "    print(\"\\n\")\n",
    "\n",
    "def search_contact():\n",
    "    name = input(\"Enter the name of the contact to search: \")\n",
    "    if name in contacts:\n",
    "        print(f\"Contact found - Name: {name}, Phone: {contacts[name]['phone']}, Email: {contacts[name]['email']}\\n\")\n",
    "    else:\n",
    "        print(f\"Contact '{name}' not found.\\n\")\n",
    "\n",
    "def update_contact():\n",
    "    name = input(\"Enter the name of the contact to update: \")\n",
    "    if name in contacts:\n",
    "        print(f\"Current details - Phone: {contacts[name]['phone']}, Email: {contacts[name]['email']}\")\n",
    "        phone = input(\"Enter new phone number (leave blank to keep unchanged): \")\n",
    "        email = input(\"Enter new email address (leave blank to keep unchanged): \")\n",
    "\n",
    "        # Update only if the user enters something\n",
    "        if phone:\n",
    "            contacts[name]['phone'] = phone\n",
    "        if email:\n",
    "            contacts[name]['email'] = email\n",
    "        print(f\"Contact '{name}' updated successfully!\\n\")\n",
    "    else:\n",
    "        print(f\"Contact '{name}' not found.\\n\")\n",
    "\n",
    "def filter_contact(domain=\"gmail.com\"):\n",
    "    # Dictionary comprehension to filter contacts by email domain\n",
    "    filtered_contacts = {name: details for name, details in contacts.items() if details['email'].endswith(domain)}\n",
    "    print(f\"Contacts with email domain '{domain}':\")\n",
    "    for name, details in filtered_contacts.items():\n",
    "        print(f\"Name: {name}, Phone: {details['phone']}, Email: {details['email']}\")\n",
    "    print(\"\\n\")\n",
    "\n",
    "def contact_manager():\n",
    "    while True:\n",
    "        print(\"1. Add Contact\")\n",
    "        print(\"2. Display All Contacts\")\n",
    "        print(\"3. Search Contact\")\n",
    "        print(\"4. Update Contact\")\n",
    "        print(\"5. Filter Contacts by Email Domain (e.g., Gmail)\")\n",
    "        print(\"6. Exit\")\n",
    "\n",
    "        choice = int(input(\"Enter your choice (1-6): \"))\n",
    "\n",
    "        if choice == 1:\n",
    "            add_contact()\n",
    "        elif choice == 2:\n",
    "            display_contacts()\n",
    "        elif choice == 3:\n",
    "            search_contact()\n",
    "        elif choice == 4:\n",
    "            update_contact()\n",
    "        elif choice == 5:\n",
    "            domain = input(\"Enter email domain to filter (default is 'gmail.com'): \") or \"gmail.com\"\n",
    "            filter_contact(domain)\n",
    "        elif choice == 6:\n",
    "            print(\"Exiting Contact Manager. Goodbye!\")\n",
    "            break\n",
    "        else:\n",
    "            print(\"Invalid choice! Please enter a valid option\")\n",
    "contact_manager()"
   ]
  },
  {
   "cell_type": "code",
   "execution_count": null,
   "id": "518b9d92-1a7a-454f-8639-fd99c0f3d5a4",
   "metadata": {},
   "outputs": [],
   "source": []
  }
 ],
 "metadata": {
  "kernelspec": {
   "display_name": "Python 3 (ipykernel)",
   "language": "python",
   "name": "python3"
  },
  "language_info": {
   "codemirror_mode": {
    "name": "ipython",
    "version": 3
   },
   "file_extension": ".py",
   "mimetype": "text/x-python",
   "name": "python",
   "nbconvert_exporter": "python",
   "pygments_lexer": "ipython3",
   "version": "3.12.4"
  }
 },
 "nbformat": 4,
 "nbformat_minor": 5
}
